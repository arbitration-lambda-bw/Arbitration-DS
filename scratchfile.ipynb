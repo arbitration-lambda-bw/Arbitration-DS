{
 "cells": [
  {
   "cell_type": "code",
   "execution_count": 1,
   "metadata": {},
   "outputs": [],
   "source": [
    "import requests \n",
    "import bs4\n",
    "from bs4 import BeautifulSoup\n",
    "import time"
   ]
  },
  {
   "cell_type": "code",
   "execution_count": 5,
   "metadata": {},
   "outputs": [],
   "source": [
    "url_opp = 'https://openpolicing.stanford.edu/data/'\n",
    "\n",
    "page = requests.get(url_opp)\n",
    "\n",
    "soup = BeautifulSoup(page.text, \"html.parser\")\n",
    "#print(soup.prettify())"
   ]
  },
  {
   "cell_type": "code",
   "execution_count": 28,
   "metadata": {},
   "outputs": [],
   "source": [
    "def get_csv_link(soup):\n",
    "    links = []\n",
    "\n",
    "    dl = soup.find_all(name='td', attrs={'data-title':'Download'})\n",
    "    for td in dl:\n",
    "        for a in td.find_all(name='a', attrs={'title':'Download data as CSV'}):\n",
    "            links.append(a['href'])\n",
    "    return(links)"
   ]
  },
  {
   "cell_type": "code",
   "execution_count": 29,
   "metadata": {},
   "outputs": [],
   "source": [
    "opp_urls = get_csv_link(soup)"
   ]
  },
  {
   "cell_type": "code",
   "execution_count": 30,
   "metadata": {},
   "outputs": [
    {
     "data": {
      "text/plain": [
       "['https://stacks.stanford.edu/file/druid:tr137st9964/tr137st9964_ar_little_rock_2019_02_25.csv.zip',\n",
       " 'https://stacks.stanford.edu/file/druid:tr137st9964/tr137st9964_az_gilbert_2019_02_25.csv.zip',\n",
       " 'https://stacks.stanford.edu/file/druid:tr137st9964/tr137st9964_az_mesa_2019_02_25.csv.zip',\n",
       " 'https://stacks.stanford.edu/file/druid:jb084sr9005/jb084sr9005_az_statewide_2019_02_25.csv.zip',\n",
       " 'https://stacks.stanford.edu/file/druid:tr137st9964/tr137st9964_ca_anaheim_2019_02_25.csv.zip',\n",
       " 'https://stacks.stanford.edu/file/druid:tr137st9964/tr137st9964_ca_bakersfield_2019_02_25.csv.zip',\n",
       " 'https://stacks.stanford.edu/file/druid:tr137st9964/tr137st9964_ca_long_beach_2019_02_26.csv.zip',\n",
       " 'https://stacks.stanford.edu/file/druid:tr137st9964/tr137st9964_ca_san_bernardino_2019_02_25.csv.zip',\n",
       " 'https://stacks.stanford.edu/file/druid:tr137st9964/tr137st9964_ca_san_diego_2019_02_25.csv.zip',\n",
       " 'https://stacks.stanford.edu/file/druid:tr137st9964/tr137st9964_ca_san_francisco_2019_02_25.csv.zip']"
      ]
     },
     "execution_count": 30,
     "metadata": {},
     "output_type": "execute_result"
    }
   ],
   "source": [
    "opp_urls[:10]"
   ]
  },
  {
   "cell_type": "code",
   "execution_count": 47,
   "metadata": {},
   "outputs": [],
   "source": [
    "with open(\"../opp_data/urls.list\",'w') as f:\n",
    "    for u in opp_urls:\n",
    "        f.write(str(u) + '\\n')\n"
   ]
  },
  {
   "cell_type": "code",
   "execution_count": 45,
   "metadata": {},
   "outputs": [],
   "source": [
    "with open(\"../opp_data/urls.list\", 'r') as f:\n",
    "    opened_urls = [line.rstrip('\\n') for line in f]"
   ]
  },
  {
   "cell_type": "code",
   "execution_count": 34,
   "metadata": {},
   "outputs": [],
   "source": [
    "def get_n_rows(url, n_rows=100):\n",
    "    r = requests.get(url, stream=True)\n",
    "    lines = r.iter_lines(decode_unicode=True)\n",
    "    doc = []\n",
    "    headers = next(lines)\n",
    "    for i in range(n_rows):\n",
    "        doc.append(next(lines))\n",
    "    return(headers, doc)"
   ]
  },
  {
   "cell_type": "code",
   "execution_count": 2,
   "metadata": {},
   "outputs": [],
   "source": [
    "import urllib.request as req"
   ]
  },
  {
   "cell_type": "code",
   "execution_count": null,
   "metadata": {},
   "outputs": [],
   "source": [
    "req.urlretrieve(opp_urls[0])"
   ]
  },
  {
   "cell_type": "code",
   "execution_count": 3,
   "metadata": {},
   "outputs": [],
   "source": [
    "import urllib"
   ]
  },
  {
   "cell_type": "code",
   "execution_count": 53,
   "metadata": {},
   "outputs": [],
   "source": [
    "info = urllib.request.urlopen(opp_urls[0]).info()"
   ]
  },
  {
   "cell_type": "code",
   "execution_count": 51,
   "metadata": {},
   "outputs": [
    {
     "data": {
      "text/plain": [
       "['__builtins__',\n",
       " '__cached__',\n",
       " '__doc__',\n",
       " '__file__',\n",
       " '__loader__',\n",
       " '__name__',\n",
       " '__package__',\n",
       " '__path__',\n",
       " '__spec__',\n",
       " 'error',\n",
       " 'parse',\n",
       " 'request',\n",
       " 'response']"
      ]
     },
     "execution_count": 51,
     "metadata": {},
     "output_type": "execute_result"
    }
   ],
   "source": [
    "dir(urllib)"
   ]
  },
  {
   "cell_type": "code",
   "execution_count": 54,
   "metadata": {},
   "outputs": [
    {
     "data": {
      "text/plain": [
       "<http.client.HTTPMessage at 0x7ff07d67c828>"
      ]
     },
     "execution_count": 54,
     "metadata": {},
     "output_type": "execute_result"
    }
   ],
   "source": [
    "info"
   ]
  },
  {
   "cell_type": "code",
   "execution_count": 60,
   "metadata": {},
   "outputs": [],
   "source": [
    "with req.urlopen(opp_urls[0]) as response:\n",
    "   html = response.info()"
   ]
  },
  {
   "cell_type": "code",
   "execution_count": 4,
   "metadata": {},
   "outputs": [],
   "source": [
    "import uritools"
   ]
  },
  {
   "cell_type": "code",
   "execution_count": null,
   "metadata": {},
   "outputs": [],
   "source": [
    "opp_urls[0].lstrip('')"
   ]
  },
  {
   "cell_type": "code",
   "execution_count": 64,
   "metadata": {},
   "outputs": [
    {
     "data": {
      "text/plain": [
       "'https://stacks.stanford.edu/file/druid:tr137st9964/tr137st9964_ar_little_rock_2019_02_25.csv.zip'"
      ]
     },
     "execution_count": 64,
     "metadata": {},
     "output_type": "execute_result"
    }
   ],
   "source": [
    "opp_urls[0].lstrip('/')"
   ]
  },
  {
   "cell_type": "code",
   "execution_count": 67,
   "metadata": {},
   "outputs": [
    {
     "data": {
      "text/plain": [
       "['DefragResult',\n",
       " 'GEN_DELIMS',\n",
       " 'RESERVED',\n",
       " 'SUB_DELIMS',\n",
       " 'SplitResult',\n",
       " 'UNRESERVED',\n",
       " '__all__',\n",
       " '__builtins__',\n",
       " '__cached__',\n",
       " '__doc__',\n",
       " '__file__',\n",
       " '__loader__',\n",
       " '__name__',\n",
       " '__package__',\n",
       " '__path__',\n",
       " '__spec__',\n",
       " '__version__',\n",
       " 'chars',\n",
       " 'classify',\n",
       " 'compose',\n",
       " 'defrag',\n",
       " 'encoding',\n",
       " 'isabspath',\n",
       " 'isabsuri',\n",
       " 'isnetpath',\n",
       " 'isrelpath',\n",
       " 'issamedoc',\n",
       " 'isuri',\n",
       " 'join',\n",
       " 'split',\n",
       " 'uricompose',\n",
       " 'uridecode',\n",
       " 'uridefrag',\n",
       " 'uriencode',\n",
       " 'urijoin',\n",
       " 'urisplit',\n",
       " 'uriunsplit']"
      ]
     },
     "execution_count": 67,
     "metadata": {},
     "output_type": "execute_result"
    }
   ],
   "source": [
    "dir(uritools)"
   ]
  },
  {
   "cell_type": "code",
   "execution_count": 72,
   "metadata": {},
   "outputs": [
    {
     "data": {
      "text/plain": [
       "'tr137st9964_ar_little_rock_2019_02_25.csv.zip'"
      ]
     },
     "execution_count": 72,
     "metadata": {},
     "output_type": "execute_result"
    }
   ],
   "source": [
    "uritools.urisplit(opp_urls[0])[2].split('/')[-1]"
   ]
  },
  {
   "cell_type": "code",
   "execution_count": 74,
   "metadata": {},
   "outputs": [
    {
     "data": {
      "text/plain": [
       "80"
      ]
     },
     "execution_count": 74,
     "metadata": {},
     "output_type": "execute_result"
    }
   ],
   "source": [
    "len(opp_urls)"
   ]
  },
  {
   "cell_type": "code",
   "execution_count": 5,
   "metadata": {},
   "outputs": [],
   "source": [
    "import os"
   ]
  },
  {
   "cell_type": "code",
   "execution_count": 80,
   "metadata": {},
   "outputs": [
    {
     "name": "stdout",
     "output_type": "stream",
     "text": [
      "jb084sr9005_nh_statewide_2019_02_25.csv.zip\n",
      "tr137st9964_ca_anaheim_2019_02_25.csv.zip\n",
      "tr137st9964_co_denver_2019_02_25.csv.zip\n",
      "tr137st9964_nc_fayetteville_2019_02_25.csv.zip\n",
      "tr137st9964_nj_camden_2019_02_25.csv.zip\n",
      "tr137st9964_ok_tulsa_2019_02_25.csv.zip\n",
      "jb084sr9005_il_statewide_2019_02_25.csv.zip\n",
      "jb084sr9005_oh_statewide_2019_02_25.csv.zip\n",
      "jb084sr9005_mt_statewide_2019_02_25.csv.zip\n",
      "jb084sr9005_az_statewide_2019_02_25.csv.zip\n",
      "tr137st9964_az_mesa_2019_02_25.csv.zip\n",
      "jb084sr9005_ms_statewide_2019_02_25.csv.zip\n",
      "tr137st9964_nc_raleigh_2019_02_25.csv.zip\n",
      "jb084sr9005_ca_statewide_2019_02_25.csv.zip\n",
      "tr137st9964_ca_stockton_2019_02_25.csv.zip\n",
      "tr137st9964_nd_grand_forks_2019_02_25.csv.zip\n",
      "tr137st9964_oh_columbus_2019_02_25.csv.zip\n",
      "tr137st9964_ca_san_diego_2019_02_25.csv.zip\n",
      "jb084sr9005_nc_statewide_2019_02_25.csv.zip\n",
      "jb084sr9005_nd_statewide_2019_02_25.csv.zip\n",
      "tr137st9964_ct_hartford_2019_02_25.csv.zip\n",
      "jb084sr9005_co_statewide_2019_02_25.csv.zip\n",
      "jb084sr9005_ne_statewide_2019_02_25.csv.zip\n",
      "tr137st9964_md_baltimore_2019_02_25.csv.zip\n",
      "tr137st9964_oh_cincinnati_2019_02_25.csv.zip\n",
      "jb084sr9005_ny_statewide_2019_02_25.csv.zip\n",
      "tr137st9964_nc_charlotte_2019_02_25.csv.zip\n",
      "tr137st9964_ny_albany_2019_02_25.csv.zip\n",
      "jb084sr9005_ri_statewide_2019_02_25.csv.zip\n",
      "tr137st9964_ca_santa_ana_2019_02_25.csv.zip\n",
      "tr137st9964_ca_san_bernardino_2019_02_25.csv.zip\n",
      "tr137st9964_pa_philadelphia_2019_02_25.csv.zip\n",
      "tr137st9964_ca_bakersfield_2019_02_25.csv.zip\n",
      "tr137st9964_in_fort_wayne_2019_02_25.csv.zip\n",
      "jb084sr9005_nj_statewide_2019_02_25.csv.zip\n",
      "tr137st9964_ca_san_jose_2019_02_25.csv.zip\n",
      "tr137st9964_nc_greensboro_2019_02_25.csv.zip\n",
      "jb084sr9005_sc_statewide_2019_02_25.csv.zip\n",
      "tr137st9964_ca_long_beach_2019_02_26.csv.zip\n",
      "jb084sr9005_ga_statewide_2019_02_25.csv.zip\n",
      "tr137st9964_fl_tampa_2019_02_25.csv.zip\n",
      "tr137st9964_ok_oklahoma_city_2019_02_25.csv.zip\n",
      "jb084sr9005_md_statewide_2019_02_25.csv.zip\n",
      "jb084sr9005_ia_statewide_2019_02_25.csv.zip\n",
      "tr137st9964_nc_winston-salem_2019_02_25.csv.zip\n",
      "jb084sr9005_ct_statewide_2019_02_25.csv.zip\n",
      "jb084sr9005_ma_statewide_2019_02_25.csv.zip\n",
      "jb084sr9005_or_statewide_2019_02_25.csv.zip\n",
      "tr137st9964_nc_durham_2019_02_25.csv.zip\n",
      "tr137st9964_co_aurora_2019_02_25.csv.zip\n",
      "tr137st9964_az_gilbert_2019_02_25.csv.zip\n",
      "tr137st9964_ky_owensboro_2019_02_25.csv.zip\n",
      "tr137st9964_id_idaho_falls_2019_02_25.csv.zip\n",
      "tr137st9964_mn_saint_paul_2019_02_25.csv.zip\n",
      "jb084sr9005_fl_statewide_2019_02_25.csv.zip\n",
      "tr137st9964_ca_san_francisco_2019_02_25.csv.zip\n",
      "jb084sr9005_mo_statewide_2019_02_25.csv.zip\n",
      "tr137st9964_fl_saint_petersburg_2019_02_25.csv.zip\n",
      "tr137st9964_ar_little_rock_2019_02_25.csv.zip\n",
      "jb084sr9005_nv_statewide_2019_02_25.csv.zip\n",
      "tr137st9964_la_new_orleans_2019_02_25.csv.zip\n",
      "tr137st9964_ks_wichita_2019_02_25.csv.zip\n",
      "tr137st9964_il_chicago_2019_02_25.csv.zip\n",
      "jb084sr9005_mi_statewide_2019_02_25.csv.zip\n"
     ]
    }
   ],
   "source": [
    "for u in os.listdir('../opp_data'):\n",
    "    if '.zip' in u:\n",
    "        print(u)"
   ]
  },
  {
   "cell_type": "code",
   "execution_count": 82,
   "metadata": {},
   "outputs": [],
   "source": [
    "got_files = []\n",
    "\n",
    "for url in opp_urls:\n",
    "    if '.zip' in url:\n",
    "        got_files.append(url)"
   ]
  },
  {
   "cell_type": "code",
   "execution_count": 84,
   "metadata": {},
   "outputs": [],
   "source": [
    "to_get = []\n",
    "for url in opp_urls:\n",
    "    if uritools.urisplit(url)[2].split('/')[-1] not in got_files:\n",
    "        to_get.append(url)"
   ]
  },
  {
   "cell_type": "code",
   "execution_count": 88,
   "metadata": {},
   "outputs": [
    {
     "name": "stdout",
     "output_type": "stream",
     "text": [
      "True\n",
      "True\n",
      "True\n",
      "True\n",
      "True\n",
      "True\n",
      "True\n",
      "True\n",
      "True\n",
      "True\n",
      "True\n",
      "True\n",
      "True\n",
      "True\n",
      "True\n",
      "True\n",
      "True\n",
      "True\n",
      "True\n",
      "True\n",
      "True\n",
      "True\n",
      "True\n",
      "True\n",
      "True\n",
      "True\n",
      "True\n",
      "True\n",
      "True\n",
      "True\n",
      "True\n",
      "True\n",
      "True\n",
      "True\n",
      "True\n",
      "True\n",
      "True\n",
      "True\n",
      "True\n",
      "True\n",
      "True\n",
      "True\n",
      "True\n",
      "True\n",
      "True\n",
      "True\n",
      "True\n",
      "True\n",
      "True\n",
      "True\n",
      "True\n",
      "True\n",
      "True\n",
      "True\n",
      "True\n",
      "True\n",
      "True\n",
      "True\n",
      "True\n",
      "True\n",
      "True\n",
      "True\n",
      "True\n",
      "True\n",
      "True\n",
      "True\n",
      "True\n",
      "True\n",
      "True\n",
      "True\n",
      "True\n",
      "True\n",
      "True\n",
      "True\n",
      "True\n",
      "True\n",
      "True\n",
      "True\n",
      "True\n",
      "True\n"
     ]
    }
   ],
   "source": [
    "for f in to_get:\n",
    "    print(f.endswith('.zip'))"
   ]
  },
  {
   "cell_type": "code",
   "execution_count": 6,
   "metadata": {},
   "outputs": [],
   "source": [
    "zipfiles = []\n",
    "to_unzip = []\n",
    "\n",
    "for f in os.listdir('../opp_data'):\n",
    "    if f.endswith('.zip'):\n",
    "        zipfiles.append(f)\n",
    "\n",
    "for f in zipfiles:\n",
    "    if f.rstrip('.zip') not in os.listdir('./'):\n",
    "        to_unzip.append(f)\n",
    "    \n",
    "# for f in to_unzip:\n",
    "#     print('Unzipping {}'.format(f))\n",
    "#     unZ(f)\n",
    "#     print('Unzipped as {}'.format(f.rstrip('.zip')))\n"
   ]
  },
  {
   "cell_type": "code",
   "execution_count": 18,
   "metadata": {},
   "outputs": [],
   "source": [
    "from zipfile import ZipFile\n",
    "import shutil"
   ]
  },
  {
   "cell_type": "code",
   "execution_count": 23,
   "metadata": {},
   "outputs": [
    {
     "name": "stdout",
     "output_type": "stream",
     "text": [
      "Unzipping jb084sr9005_nh_statewide_2019_02_25.csv.zip\n",
      "nh_statewide_2019_02_25.csv\n",
      "Unzipping tr137st9964_ca_anaheim_2019_02_25.csv.zip\n",
      "ca_anaheim_2019_02_25.csv\n"
     ]
    }
   ],
   "source": [
    "for f in to_unzip[:2]:\n",
    "    print('Unzipping {}'.format(f))\n",
    "    with ZipFile('../opp_data/' + f) as zipf:\n",
    "        ar = zipf.namelist()\n",
    "        fname = os.path.basename(ar[0])\n",
    "        print(fname)\n",
    "        source = zipf.open(ar[0])\n",
    "        tar = open(os.path.join('../opp_data/', fname), 'wb')\n",
    "        with source, tar:\n",
    "            shutil.copyfileobj(source, tar)\n",
    "        \n",
    "        #zipf.extract(zipf.namelist()[0], '../opp_data/{}'.format(f.rstrip('.zip')))\n"
   ]
  },
  {
   "cell_type": "code",
   "execution_count": 36,
   "metadata": {},
   "outputs": [],
   "source": [
    "import os\n",
    "\n",
    "zipfiles = []\n",
    "to_unzip = []\n",
    "\n",
    "for f in os.listdir('../opp_data'):\n",
    "    if f.endswith('.zip'):\n",
    "        zipfiles.append(f)\n",
    "\n",
    "for f in zipfiles:\n",
    "    if f.rstrip('.zip') not in os.listdir('../opp_data'):\n",
    "        to_unzip.append(f)\n",
    "\n",
    "\n"
   ]
  },
  {
   "cell_type": "code",
   "execution_count": 28,
   "metadata": {},
   "outputs": [
    {
     "data": {
      "text/plain": [
       "['jb084sr9005_nh_statewide_2019_02_25.csv.zip',\n",
       " 'tr137st9964_ca_anaheim_2019_02_25.csv.zip',\n",
       " 'tr137st9964_co_denver_2019_02_25.csv.zip',\n",
       " 'tr137st9964_nc_fayetteville_2019_02_25.csv.zip',\n",
       " 'tr137st9964_nj_camden_2019_02_25.csv.zip',\n",
       " 'tr137st9964_ok_tulsa_2019_02_25.csv.zip',\n",
       " 'jb084sr9005_il_statewide_2019_02_25.csv.zip',\n",
       " 'jb084sr9005_oh_statewide_2019_02_25.csv.zip',\n",
       " 'jb084sr9005_mt_statewide_2019_02_25.csv.zip',\n",
       " 'jb084sr9005_az_statewide_2019_02_25.csv.zip',\n",
       " 'tr137st9964_az_mesa_2019_02_25.csv.zip',\n",
       " 'jb084sr9005_ms_statewide_2019_02_25.csv.zip',\n",
       " 'tr137st9964_nc_raleigh_2019_02_25.csv.zip',\n",
       " 'jb084sr9005_ca_statewide_2019_02_25.csv.zip',\n",
       " 'tr137st9964_tx_arlington_2019_02_25.csv.zip',\n",
       " 'tr137st9964_ca_stockton_2019_02_25.csv.zip',\n",
       " 'tr137st9964_nd_grand_forks_2019_02_25.csv.zip',\n",
       " 'tr137st9964_oh_columbus_2019_02_25.csv.zip',\n",
       " 'tr137st9964_ca_san_diego_2019_02_25.csv.zip',\n",
       " 'jb084sr9005_nc_statewide_2019_02_25.csv.zip',\n",
       " 'jb084sr9005_nd_statewide_2019_02_25.csv.zip',\n",
       " 'tr137st9964_ct_hartford_2019_02_25.csv.zip',\n",
       " 'jb084sr9005_co_statewide_2019_02_25.csv.zip',\n",
       " 'jb084sr9005_wy_statewide_2019_02_25.csv.zip',\n",
       " 'jb084sr9005_ne_statewide_2019_02_25.csv.zip',\n",
       " 'tr137st9964_md_baltimore_2019_02_25.csv.zip',\n",
       " 'tr137st9964_oh_cincinnati_2019_02_25.csv.zip',\n",
       " 'jb084sr9005_ny_statewide_2019_02_25.csv.zip',\n",
       " 'tr137st9964_nc_charlotte_2019_02_25.csv.zip',\n",
       " 'tr137st9964_ny_albany_2019_02_25.csv.zip',\n",
       " 'jb084sr9005_ri_statewide_2019_02_25.csv.zip',\n",
       " 'tr137st9964_ca_santa_ana_2019_02_25.csv.zip',\n",
       " 'jb084sr9005_tn_statewide_2019_02_25.csv.zip',\n",
       " 'jb084sr9005_vt_statewide_2019_02_25.csv.zip',\n",
       " 'tr137st9964_ca_san_bernardino_2019_02_25.csv.zip',\n",
       " 'jb084sr9005_wi_statewide_2019_02_25.csv.zip',\n",
       " 'tr137st9964_tx_san_antonio_2019_02_25.csv.zip',\n",
       " 'tr137st9964_pa_philadelphia_2019_02_25.csv.zip',\n",
       " 'tr137st9964_wi_madison_2019_02_25.csv.zip',\n",
       " 'tr137st9964_ca_bakersfield_2019_02_25.csv.zip',\n",
       " 'tr137st9964_in_fort_wayne_2019_02_25.csv.zip',\n",
       " 'jb084sr9005_nj_statewide_2019_02_25.csv.zip',\n",
       " 'tr137st9964_ca_san_jose_2019_02_25.csv.zip',\n",
       " 'tr137st9964_nc_greensboro_2019_02_25.csv.zip',\n",
       " 'jb084sr9005_sc_statewide_2019_02_25.csv.zip',\n",
       " 'tr137st9964_tx_austin_2019_02_25.csv.zip',\n",
       " 'tr137st9964_ca_long_beach_2019_02_26.csv.zip',\n",
       " 'jb084sr9005_ga_statewide_2019_02_25.csv.zip',\n",
       " 'tr137st9964_fl_tampa_2019_02_25.csv.zip',\n",
       " 'jb084sr9005_wa_statewide_2019_02_25.csv.zip',\n",
       " 'jb084sr9005_tx_statewide_2019_02_25.csv.zip',\n",
       " 'tr137st9964_ok_oklahoma_city_2019_02_25.csv.zip',\n",
       " 'jb084sr9005_md_statewide_2019_02_25.csv.zip',\n",
       " 'jb084sr9005_ia_statewide_2019_02_25.csv.zip',\n",
       " 'tr137st9964_vt_burlington_2019_02_25.csv.zip',\n",
       " 'tr137st9964_nc_winston-salem_2019_02_25.csv.zip',\n",
       " 'jb084sr9005_sd_statewide_2019_02_25.csv.zip',\n",
       " 'jb084sr9005_ct_statewide_2019_02_25.csv.zip',\n",
       " 'jb084sr9005_ma_statewide_2019_02_25.csv.zip',\n",
       " 'jb084sr9005_va_statewide_2019_02_25.csv.zip',\n",
       " 'jb084sr9005_or_statewide_2019_02_25.csv.zip',\n",
       " 'tr137st9964_nc_durham_2019_02_25.csv.zip',\n",
       " 'tr137st9964_co_aurora_2019_02_25.csv.zip',\n",
       " 'tr137st9964_az_gilbert_2019_02_25.csv.zip',\n",
       " 'tr137st9964_ky_owensboro_2019_02_25.csv.zip',\n",
       " 'tr137st9964_id_idaho_falls_2019_02_25.csv.zip',\n",
       " 'tr137st9964_mn_saint_paul_2019_02_25.csv.zip',\n",
       " 'jb084sr9005_fl_statewide_2019_02_25.csv.zip',\n",
       " 'tr137st9964_ca_san_francisco_2019_02_25.csv.zip',\n",
       " 'jb084sr9005_mo_statewide_2019_02_25.csv.zip',\n",
       " 'tr137st9964_fl_saint_petersburg_2019_02_25.csv.zip',\n",
       " 'tr137st9964_ar_little_rock_2019_02_25.csv.zip',\n",
       " 'tr137st9964_tx_houston_2019_02_25.csv.zip',\n",
       " 'jb084sr9005_nv_statewide_2019_02_25.csv.zip',\n",
       " 'tr137st9964_la_new_orleans_2019_02_25.csv.zip',\n",
       " 'tr137st9964_wa_seattle_2019_02_25.csv.zip',\n",
       " 'tr137st9964_ks_wichita_2019_02_25.csv.zip',\n",
       " 'tr137st9964_il_chicago_2019_02_25.csv.zip',\n",
       " 'jb084sr9005_mi_statewide_2019_02_25.csv.zip',\n",
       " 'tr137st9964_wa_tacoma_2019_02_25.csv.zip']"
      ]
     },
     "execution_count": 28,
     "metadata": {},
     "output_type": "execute_result"
    }
   ],
   "source": [
    "zipfiles"
   ]
  },
  {
   "cell_type": "code",
   "execution_count": 29,
   "metadata": {},
   "outputs": [
    {
     "data": {
      "text/plain": [
       "80"
      ]
     },
     "execution_count": 29,
     "metadata": {},
     "output_type": "execute_result"
    }
   ],
   "source": [
    "len(zipfiles)"
   ]
  },
  {
   "cell_type": "code",
   "execution_count": 30,
   "metadata": {},
   "outputs": [
    {
     "data": {
      "text/plain": [
       "80"
      ]
     },
     "execution_count": 30,
     "metadata": {},
     "output_type": "execute_result"
    }
   ],
   "source": [
    "len(to_unzip)"
   ]
  },
  {
   "cell_type": "code",
   "execution_count": 38,
   "metadata": {},
   "outputs": [
    {
     "name": "stdout",
     "output_type": "stream",
     "text": [
      "Unzipping jb084sr9005_nh_statewide_2019_02_25.csv.zip\n",
      "Unzipping tr137st9964_ca_anaheim_2019_02_25.csv.zip\n",
      "Unzipping tr137st9964_co_denver_2019_02_25.csv.zip\n",
      "Unzipping tr137st9964_nc_fayetteville_2019_02_25.csv.zip\n",
      "Unzipping tr137st9964_nj_camden_2019_02_25.csv.zip\n",
      "Unzipping tr137st9964_ok_tulsa_2019_02_25.csv.zip\n",
      "Unzipping jb084sr9005_il_statewide_2019_02_25.csv.zip\n",
      "Unzipping jb084sr9005_oh_statewide_2019_02_25.csv.zip\n",
      "Unzipping jb084sr9005_mt_statewide_2019_02_25.csv.zip\n",
      "Unzipping jb084sr9005_az_statewide_2019_02_25.csv.zip\n",
      "Unzipping tr137st9964_az_mesa_2019_02_25.csv.zip\n",
      "Unzipping jb084sr9005_ms_statewide_2019_02_25.csv.zip\n",
      "Unzipping tr137st9964_nc_raleigh_2019_02_25.csv.zip\n",
      "Unzipping jb084sr9005_ca_statewide_2019_02_25.csv.zip\n",
      "Unzipping tr137st9964_tx_arlington_2019_02_25.csv.zip\n",
      "Unzipping tr137st9964_ca_stockton_2019_02_25.csv.zip\n",
      "Unzipping tr137st9964_nd_grand_forks_2019_02_25.csv.zip\n",
      "Unzipping tr137st9964_oh_columbus_2019_02_25.csv.zip\n",
      "Unzipping tr137st9964_ca_san_diego_2019_02_25.csv.zip\n",
      "Unzipping jb084sr9005_nc_statewide_2019_02_25.csv.zip\n",
      "Unzipping jb084sr9005_nd_statewide_2019_02_25.csv.zip\n",
      "Unzipping tr137st9964_ct_hartford_2019_02_25.csv.zip\n",
      "Unzipping jb084sr9005_co_statewide_2019_02_25.csv.zip\n",
      "Unzipping jb084sr9005_wy_statewide_2019_02_25.csv.zip\n",
      "Unzipping jb084sr9005_ne_statewide_2019_02_25.csv.zip\n",
      "Unzipping tr137st9964_md_baltimore_2019_02_25.csv.zip\n",
      "Unzipping tr137st9964_oh_cincinnati_2019_02_25.csv.zip\n",
      "Unzipping jb084sr9005_ny_statewide_2019_02_25.csv.zip\n",
      "Unzipping tr137st9964_nc_charlotte_2019_02_25.csv.zip\n",
      "Unzipping tr137st9964_ny_albany_2019_02_25.csv.zip\n",
      "Unzipping jb084sr9005_ri_statewide_2019_02_25.csv.zip\n",
      "Unzipping tr137st9964_ca_santa_ana_2019_02_25.csv.zip\n",
      "Unzipping jb084sr9005_tn_statewide_2019_02_25.csv.zip\n",
      "Unzipping jb084sr9005_vt_statewide_2019_02_25.csv.zip\n",
      "Unzipping tr137st9964_ca_san_bernardino_2019_02_25.csv.zip\n",
      "Unzipping jb084sr9005_wi_statewide_2019_02_25.csv.zip\n",
      "Unzipping tr137st9964_tx_san_antonio_2019_02_25.csv.zip\n",
      "Unzipping tr137st9964_pa_philadelphia_2019_02_25.csv.zip\n",
      "Unzipping tr137st9964_wi_madison_2019_02_25.csv.zip\n",
      "Unzipping tr137st9964_ca_bakersfield_2019_02_25.csv.zip\n",
      "Unzipping tr137st9964_in_fort_wayne_2019_02_25.csv.zip\n",
      "Unzipping jb084sr9005_nj_statewide_2019_02_25.csv.zip\n",
      "Unzipping tr137st9964_ca_san_jose_2019_02_25.csv.zip\n",
      "Unzipping tr137st9964_nc_greensboro_2019_02_25.csv.zip\n",
      "Unzipping tr137st9964_tx_austin_2019_02_25.csv.zip\n",
      "Unzipping tr137st9964_ca_long_beach_2019_02_26.csv.zip\n",
      "Unzipping jb084sr9005_ga_statewide_2019_02_25.csv.zip\n",
      "Unzipping tr137st9964_fl_tampa_2019_02_25.csv.zip\n",
      "Unzipping jb084sr9005_wa_statewide_2019_02_25.csv.zip\n",
      "Unzipping jb084sr9005_tx_statewide_2019_02_25.csv.zip\n",
      "Unzipping tr137st9964_ok_oklahoma_city_2019_02_25.csv.zip\n",
      "Unzipping jb084sr9005_md_statewide_2019_02_25.csv.zip\n",
      "Unzipping jb084sr9005_ia_statewide_2019_02_25.csv.zip\n",
      "Unzipping tr137st9964_vt_burlington_2019_02_25.csv.zip\n",
      "Unzipping tr137st9964_nc_winston-salem_2019_02_25.csv.zip\n",
      "Unzipping jb084sr9005_sd_statewide_2019_02_25.csv.zip\n",
      "Unzipping jb084sr9005_ct_statewide_2019_02_25.csv.zip\n",
      "Unzipping jb084sr9005_ma_statewide_2019_02_25.csv.zip\n",
      "Unzipping jb084sr9005_va_statewide_2019_02_25.csv.zip\n",
      "Unzipping jb084sr9005_or_statewide_2019_02_25.csv.zip\n",
      "Unzipping tr137st9964_nc_durham_2019_02_25.csv.zip\n",
      "Unzipping tr137st9964_co_aurora_2019_02_25.csv.zip\n",
      "Unzipping tr137st9964_az_gilbert_2019_02_25.csv.zip\n",
      "Unzipping tr137st9964_ky_owensboro_2019_02_25.csv.zip\n",
      "Unzipping tr137st9964_id_idaho_falls_2019_02_25.csv.zip\n",
      "Unzipping tr137st9964_mn_saint_paul_2019_02_25.csv.zip\n",
      "Unzipping jb084sr9005_fl_statewide_2019_02_25.csv.zip\n",
      "Unzipping tr137st9964_ca_san_francisco_2019_02_25.csv.zip\n",
      "Unzipping jb084sr9005_mo_statewide_2019_02_25.csv.zip\n",
      "Unzipping tr137st9964_fl_saint_petersburg_2019_02_25.csv.zip\n",
      "Unzipping tr137st9964_ar_little_rock_2019_02_25.csv.zip\n",
      "Unzipping tr137st9964_tx_houston_2019_02_25.csv.zip\n",
      "Unzipping jb084sr9005_nv_statewide_2019_02_25.csv.zip\n",
      "Unzipping tr137st9964_la_new_orleans_2019_02_25.csv.zip\n",
      "Unzipping tr137st9964_wa_seattle_2019_02_25.csv.zip\n",
      "Unzipping tr137st9964_ks_wichita_2019_02_25.csv.zip\n",
      "Unzipping tr137st9964_il_chicago_2019_02_25.csv.zip\n",
      "Unzipping jb084sr9005_mi_statewide_2019_02_25.csv.zip\n",
      "Unzipping tr137st9964_wa_tacoma_2019_02_25.csv.zip\n"
     ]
    }
   ],
   "source": [
    "to_unzip = []\n",
    "for f in zipfiles:\n",
    "    print('Unzipping {}'.format(f))\n",
    "    with ZipFile('../opp_data/' + f) as zipf:\n",
    "        ar = zipf.namelist()\n",
    "        fname = os.path.basename(ar[0])\n",
    "        if fname not in os.listdir('../opp_data'):\n",
    "            to_unzip.append(fname)\n",
    "#         source = zipf.open(ar[0])\n",
    "#         tar = open(os.path.join('../opp_data/', fname), 'wb')\n",
    "#         with source, tar:\n",
    "#             shutil.copyfileobj(source, tar)"
   ]
  },
  {
   "cell_type": "code",
   "execution_count": 39,
   "metadata": {},
   "outputs": [
    {
     "data": {
      "text/plain": [
       "['tx_austin_2019_02_25.csv',\n",
       " 'ca_long_beach_2019_02_26.csv',\n",
       " 'ga_statewide_2019_02_25.csv',\n",
       " 'fl_tampa_2019_02_25.csv',\n",
       " 'wa_statewide_2019_02_25.csv',\n",
       " 'tx_statewide_2019_02_25.csv',\n",
       " 'ok_oklahoma_city_2019_02_25.csv',\n",
       " 'md_statewide_2019_02_25.csv',\n",
       " 'ia_statewide_2019_02_25.csv',\n",
       " 'vt_burlington_2019_02_25.csv',\n",
       " 'nc_winston-salem_2019_02_25.csv',\n",
       " 'sd_statewide_2019_02_25.csv',\n",
       " 'ct_statewide_2019_02_25.csv',\n",
       " 'ma_statewide_2019_02_25.csv',\n",
       " 'va_statewide_2019_02_25.csv',\n",
       " 'or_statewide_2019_02_25.csv',\n",
       " 'nc_durham_2019_02_25.csv',\n",
       " 'co_aurora_2019_02_25.csv',\n",
       " 'az_gilbert_2019_02_25.csv',\n",
       " 'ky_owensboro_2019_02_25.csv',\n",
       " 'id_idaho_falls_2019_02_25.csv',\n",
       " 'mn_saint_paul_2019_02_25.csv',\n",
       " 'fl_statewide_2019_02_25.csv',\n",
       " 'ca_san_francisco_2019_02_25.csv',\n",
       " 'mo_statewide_2019_02_25.csv',\n",
       " 'fl_saint_petersburg_2019_02_25.csv',\n",
       " 'ar_little_rock_2019_02_25.csv',\n",
       " 'tx_houston_2019_02_25.csv',\n",
       " 'nv_statewide_2019_02_25.csv',\n",
       " 'la_new_orleans_2019_02_25.csv',\n",
       " 'wa_seattle_2019_02_25.csv',\n",
       " 'ks_wichita_2019_02_25.csv',\n",
       " 'il_chicago_2019_02_25.csv',\n",
       " 'mi_statewide_2019_02_25.csv',\n",
       " 'wa_tacoma_2019_02_25.csv']"
      ]
     },
     "execution_count": 39,
     "metadata": {},
     "output_type": "execute_result"
    }
   ],
   "source": [
    "to_unzip"
   ]
  },
  {
   "cell_type": "code",
   "execution_count": null,
   "metadata": {},
   "outputs": [],
   "source": []
  }
 ],
 "metadata": {
  "kernelspec": {
   "display_name": "Python 3",
   "language": "python",
   "name": "python3"
  },
  "language_info": {
   "codemirror_mode": {
    "name": "ipython",
    "version": 3
   },
   "file_extension": ".py",
   "mimetype": "text/x-python",
   "name": "python",
   "nbconvert_exporter": "python",
   "pygments_lexer": "ipython3",
   "version": "3.7.3"
  }
 },
 "nbformat": 4,
 "nbformat_minor": 2
}
